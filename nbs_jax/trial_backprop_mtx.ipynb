{
 "cells": [
  {
   "cell_type": "code",
   "execution_count": 1,
   "id": "a1a6330e-d62b-4e99-80d1-5aafc1ec1c94",
   "metadata": {},
   "outputs": [],
   "source": [
    "import jax\n",
    "import jax.numpy as jnp\n",
    "import numpy as np\n",
    "from pathlib import Path\n",
    "import pickle, gzip, math, os, time, shutil, matplotlib as mpl, matplotlib.pyplot as plt\n",
    "\n",
    "MNIST_URL='https://github.com/mnielsen/neural-networks-and-deep-learning/blob/master/data/mnist.pkl.gz?raw=true'\n",
    "path_data = Path('data')\n",
    "path_data.mkdir(exist_ok=True)\n",
    "path_gz = path_data/'mnist.pkl.gz'"
   ]
  },
  {
   "cell_type": "code",
   "execution_count": 2,
   "id": "5e89c5c6-ab11-4a63-aba1-09f71339ab34",
   "metadata": {},
   "outputs": [
    {
     "name": "stderr",
     "output_type": "stream",
     "text": [
      "CUDA backend failed to initialize: Unable to load CUDA. Is it installed? (Set TF_CPP_MIN_LOG_LEVEL=0 and rerun for more info.)\n"
     ]
    },
    {
     "data": {
      "text/plain": [
       "(50000, 784, Array(10, dtype=int32))"
      ]
     },
     "execution_count": 2,
     "metadata": {},
     "output_type": "execute_result"
    }
   ],
   "source": [
    "from urllib.request import urlretrieve\n",
    "if not path_gz.exists(): urlretrieve(MNIST_URL, path_gz)\n",
    "\n",
    "with gzip.open(path_gz, 'rb') as f: ((x_train, y_train), (x_valid, y_valid), _) = pickle.load(f, encoding='latin-1')\n",
    "x_train, y_train, x_valid, y_valid = map(jnp.array, [x_train, y_train, x_valid, y_valid])\n",
    "\n",
    "n,m = x_train.shape\n",
    "c = y_train.max()+1\n",
    "n,m,c"
   ]
  },
  {
   "cell_type": "code",
   "execution_count": 5,
   "id": "63689940-de79-4a2d-ba04-ea353f8ebb5a",
   "metadata": {},
   "outputs": [
    {
     "data": {
      "text/plain": [
       "(10000, 1)"
      ]
     },
     "execution_count": 5,
     "metadata": {},
     "output_type": "execute_result"
    }
   ],
   "source": [
    "# num hidden\n",
    "nh = 50\n",
    "\n",
    "key = jax.random.PRNGKey(42)\n",
    "\n",
    "w1 = jax.random.normal(key, (m,nh))\n",
    "b1 = jnp.zeros(nh)\n",
    "w2 = jax.random.normal(key, (nh,1))\n",
    "b2 = jnp.zeros(1)\n",
    "\n",
    "def lin(x, w, b): return x@w + b\n",
    "def j_relu(x): return jnp.clip(x, a_min=0.) \n",
    "\n",
    "def j_model(xb):\n",
    "    l1 = lin(xb, w1, b1)\n",
    "    l2 = j_relu(l1)\n",
    "    return lin(l2, w2, b2)\n",
    "\n",
    "\n",
    "res = j_model(x_valid)\n",
    "res.shape"
   ]
  },
  {
   "cell_type": "code",
   "execution_count": 6,
   "id": "5ff46baf-6488-4b83-a978-9e51e639bec3",
   "metadata": {},
   "outputs": [],
   "source": [
    "def j_mse(output, targ): return jax.lax.pow((output[:,0]-targ), 2).mean()\n",
    "def j_lin_grad(inp, out, w, b):\n",
    "    # grad of matmul with respect to input\n",
    "    inp.g = out.g @ jnp.transpose(w)\n",
    "    w.g = (jnp.expand_dims(inp, -1) * jnp.expand_dims(out.g, 1)).sum(0)\n",
    "    b.g = out.g.sum(0)\n",
    "    return [inp, w, b]"
   ]
  },
  {
   "cell_type": "code",
   "execution_count": null,
   "id": "16dfbb21-ab08-4fff-8e8f-782d2af66c50",
   "metadata": {},
   "outputs": [],
   "source": []
  }
 ],
 "metadata": {
  "kernelspec": {
   "display_name": "fastai_jax",
   "language": "python",
   "name": "fastai_jax"
  },
  "language_info": {
   "codemirror_mode": {
    "name": "ipython",
    "version": 3
   },
   "file_extension": ".py",
   "mimetype": "text/x-python",
   "name": "python",
   "nbconvert_exporter": "python",
   "pygments_lexer": "ipython3",
   "version": "3.10.13"
  }
 },
 "nbformat": 4,
 "nbformat_minor": 5
}
