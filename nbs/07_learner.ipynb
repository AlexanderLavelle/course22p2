{
 "cells": [
  {
   "cell_type": "code",
   "execution_count": 1,
   "id": "da7e553f",
   "metadata": {},
   "outputs": [],
   "source": [
    "#| default_exp learner"
   ]
  },
  {
   "cell_type": "code",
   "execution_count": 2,
   "id": "7e8f8491",
   "metadata": {},
   "outputs": [],
   "source": [
    "#|export\n",
    "import pickle,gzip,math,os,time,shutil,torch,matplotlib as mpl,numpy as np,matplotlib.pyplot as plt\n",
    "import fastcore.all as fc\n",
    "from collections.abc import Mapping\n",
    "from pathlib import Path\n",
    "from operator import attrgetter,itemgetter\n",
    "from functools import partial\n",
    "\n",
    "from torch import tensor,nn,optim\n",
    "from torch.utils.data import DataLoader,default_collate\n",
    "import torch.nn.functional as F\n",
    "from datasets import load_dataset,load_dataset_builder\n",
    "\n",
    "from miniai.datasets import *\n",
    "\n",
    "from fastprogress import progress_bar"
   ]
  },
  {
   "cell_type": "code",
   "execution_count": 3,
   "id": "84a947f2",
   "metadata": {},
   "outputs": [],
   "source": [
    "import torchvision.transforms.functional as TF\n",
    "from fastcore.test import test_close\n",
    "\n",
    "torch.set_printoptions(precision=2, linewidth=140, sci_mode=False)\n",
    "torch.manual_seed(1)\n",
    "mpl.rcParams['image.cmap'] = 'gray'\n",
    "\n",
    "import logging\n",
    "logging.disable(logging.WARNING)"
   ]
  },
  {
   "cell_type": "code",
   "execution_count": 4,
   "id": "195306d7",
   "metadata": {},
   "outputs": [],
   "source": [
    "# from torch.utils.data.sampler import BatchSampler, RandomSampler, SequentialSampler\n",
    "# from transformers import default_data_collator\n",
    "# from collections.abc import Mapping"
   ]
  },
  {
   "cell_type": "markdown",
   "id": "8f5eea66",
   "metadata": {},
   "source": [
    "## Learner"
   ]
  },
  {
   "cell_type": "code",
   "execution_count": 5,
   "id": "b22868a9",
   "metadata": {},
   "outputs": [
    {
     "data": {
      "application/vnd.jupyter.widget-view+json": {
       "model_id": "dfc91fb38edf48e39a6f1dc8558953ba",
       "version_major": 2,
       "version_minor": 0
      },
      "text/plain": [
       "  0%|          | 0/2 [00:00<?, ?it/s]"
      ]
     },
     "metadata": {},
     "output_type": "display_data"
    }
   ],
   "source": [
    "x,y = 'image','label'\n",
    "name = \"fashion_mnist\"\n",
    "dsd = load_dataset(name)"
   ]
  },
  {
   "cell_type": "code",
   "execution_count": 6,
   "id": "1ad7ecde",
   "metadata": {},
   "outputs": [],
   "source": [
    "@inplace\n",
    "def transformi(b): b[x] = [torch.flatten(TF.to_tensor(o)) for o in b[x]]"
   ]
  },
  {
   "cell_type": "code",
   "execution_count": 7,
   "id": "ad4d2ec0",
   "metadata": {},
   "outputs": [],
   "source": [
    "bs = 256\n",
    "tds = dsd.with_transform(transformi)"
   ]
  },
  {
   "cell_type": "code",
   "execution_count": 8,
   "id": "ba214e6b",
   "metadata": {},
   "outputs": [],
   "source": [
    "#|export\n",
    "class DataLoaders:\n",
    "    def __init__(self, *dls): self.train,self.valid = dls[:2]\n",
    "\n",
    "    @classmethod\n",
    "    def from_dd(cls, dd, batch_size, as_tuple=True):\n",
    "        return cls(*[DataLoader(ds, batch_size, collate_fn=collate_dict(ds)) for ds in dd.values()])"
   ]
  },
  {
   "cell_type": "code",
   "execution_count": 9,
   "id": "9cb11029",
   "metadata": {},
   "outputs": [
    {
     "data": {
      "text/plain": [
       "(torch.Size([256, 784]), tensor([9, 0, 0, 3, 0, 2, 7, 2, 5, 5]))"
      ]
     },
     "execution_count": 9,
     "metadata": {},
     "output_type": "execute_result"
    }
   ],
   "source": [
    "dls = DataLoaders.from_dd(tds, bs)\n",
    "dt = dls.train\n",
    "xb,yb = next(iter(dt))\n",
    "xb.shape,yb[:10]"
   ]
  },
  {
   "cell_type": "code",
   "execution_count": 10,
   "id": "2f38b1d4",
   "metadata": {},
   "outputs": [],
   "source": [
    "#|export\n",
    "def to_cuda(x):\n",
    "    if isinstance(x, Mapping): return {k:v.cuda() for k,v in x.items()}\n",
    "    return type(x)(o.cuda() for o in x)"
   ]
  },
  {
   "cell_type": "code",
   "execution_count": 11,
   "id": "d733c9b0",
   "metadata": {},
   "outputs": [],
   "source": [
    "#|export\n",
    "class Learner:\n",
    "    def __init__(self, model, dls, loss_func, lr, opt_func=optim.SGD): fc.store_attr()\n",
    "\n",
    "    def one_batch(self):\n",
    "        self.xb,self.yb = to_cuda(self.batch)\n",
    "        self.preds = self.model(self.xb)\n",
    "        self.loss = self.loss_func(self.preds, self.yb)\n",
    "        if self.model.training:\n",
    "            self.loss.backward()\n",
    "            self.opt.step()\n",
    "        with torch.no_grad(): self.calc_stats()\n",
    "    \n",
    "    def calc_stats(self):\n",
    "        acc = (self.preds.argmax(dim=1)==self.yb).float().sum()\n",
    "        self.accs.append(acc)\n",
    "        n = len(self.xb)\n",
    "        self.losses.append(self.loss*n)\n",
    "        self.ns.append(n)\n",
    "\n",
    "    def one_epoch(self, train):\n",
    "        self.model.training = train\n",
    "        dl = self.dls.train if train else self.dls.valid\n",
    "        for self.num,self.batch in enumerate(dl): self.one_batch()\n",
    "        n = sum(self.ns)\n",
    "        print(self.epoch, self.model.training, sum(self.losses).item()/n, sum(self.accs).item()/n)\n",
    "    \n",
    "    def fit(self, n_epochs):\n",
    "        self.accs,self.losses,self.ns = [],[],[]\n",
    "        model.cuda()\n",
    "        self.opt = self.opt_func(self.model.parameters(), self.lr)\n",
    "        self.n_epochs = n_epochs\n",
    "        for self.epoch in range(n_epochs):\n",
    "            self.one_epoch(True)\n",
    "            self.one_epoch(False)"
   ]
  },
  {
   "cell_type": "code",
   "execution_count": 12,
   "id": "8edf58ea",
   "metadata": {},
   "outputs": [],
   "source": [
    "m,nh = 28*28,50\n",
    "model = nn.Sequential(nn.Linear(m,nh), nn.ReLU(), nn.Linear(nh,10))"
   ]
  },
  {
   "cell_type": "code",
   "execution_count": 13,
   "id": "be2af2a1",
   "metadata": {},
   "outputs": [
    {
     "name": "stdout",
     "output_type": "stream",
     "text": [
      "0 True 1.3609341145833334 0.54695\n",
      "0 False 1.3473861607142856 0.5684714285714285\n"
     ]
    }
   ],
   "source": [
    "learn = Learner(model, dls, F.cross_entropy, lr=0.001)\n",
    "learn.fit(1)"
   ]
  },
  {
   "cell_type": "markdown",
   "id": "fa077024",
   "metadata": {},
   "source": [
    "## Metrics"
   ]
  },
  {
   "cell_type": "code",
   "execution_count": 14,
   "id": "a2afe665",
   "metadata": {},
   "outputs": [],
   "source": [
    "#|export\n",
    "class Metric:\n",
    "    def __init__(self): self.reset()\n",
    "    def reset(self): self.inps,self.targs,self.ns = [],[],[]\n",
    "    def add(self, inp, targ=None, n=1):\n",
    "        self.inps.append(inp)\n",
    "        if targ is not None: self.targs.append(targ)\n",
    "        self.ns.append(n)\n",
    "    def add_batch(self, inps, targs):\n",
    "        for inp,targ in zip(inps,targs): self.add(inp,targ)\n",
    "    def __call__(self, inps=None, targs=None, ns=None):\n",
    "        inps = self.inps if inps is None else inps\n",
    "        targs = self.targs if targs is None else targs\n",
    "        if ns is None: ns = self.ns\n",
    "        if ns is None: ns = [1]*len(inps)\n",
    "        return self.forward(tensor(inps), tensor(targs) if targs else None, tensor(ns))\n",
    "    def forward(self, inps, targs, ns): raise NotImplementedError()"
   ]
  },
  {
   "cell_type": "code",
   "execution_count": 15,
   "id": "0b953f74",
   "metadata": {},
   "outputs": [],
   "source": [
    "#|export\n",
    "class Accuracy(Metric):\n",
    "    def forward(self, inps, targs, ns):\n",
    "        res = (inps==targs).float()*ns\n",
    "        return res.sum()/ns.sum()"
   ]
  },
  {
   "cell_type": "code",
   "execution_count": 16,
   "id": "c2bf8291",
   "metadata": {},
   "outputs": [
    {
     "data": {
      "text/plain": [
       "tensor(0.50)"
      ]
     },
     "execution_count": 16,
     "metadata": {},
     "output_type": "execute_result"
    }
   ],
   "source": [
    "acc = Accuracy()\n",
    "acc.add_batch([0, 1, 2, 0, 1, 2], [0, 1, 1, 2, 1, 0])\n",
    "acc()"
   ]
  },
  {
   "cell_type": "code",
   "execution_count": 17,
   "id": "86c998b4",
   "metadata": {},
   "outputs": [],
   "source": [
    "#|export\n",
    "class Loss(Metric):\n",
    "    def forward(self, inps, targs, ns): return (inps*ns).sum()/ns.sum()"
   ]
  },
  {
   "cell_type": "code",
   "execution_count": 18,
   "id": "41b067d7",
   "metadata": {},
   "outputs": [
    {
     "data": {
      "text/plain": [
       "tensor(0.62)"
      ]
     },
     "execution_count": 18,
     "metadata": {},
     "output_type": "execute_result"
    }
   ],
   "source": [
    "loss = Loss()\n",
    "loss.add(0.6, n=32)\n",
    "loss.add(0.9, n=2)\n",
    "loss()"
   ]
  },
  {
   "cell_type": "markdown",
   "id": "24420ba4",
   "metadata": {},
   "source": [
    "## Callbacks learner"
   ]
  },
  {
   "cell_type": "code",
   "execution_count": 24,
   "id": "cba4de86",
   "metadata": {},
   "outputs": [],
   "source": [
    "#|export\n",
    "def identity(*args):\n",
    "    if not args: return\n",
    "    x,*args = args\n",
    "    return (x,)+args if args else x"
   ]
  },
  {
   "cell_type": "code",
   "execution_count": 25,
   "id": "2f54c99b",
   "metadata": {},
   "outputs": [],
   "source": [
    "#|export\n",
    "class CancelFitException(Exception): pass\n",
    "class CancelBatchException(Exception): pass\n",
    "class CancelEpochException(Exception): pass"
   ]
  },
  {
   "cell_type": "code",
   "execution_count": 26,
   "id": "1a191c3e",
   "metadata": {},
   "outputs": [],
   "source": [
    "#|export\n",
    "class with_cbs:\n",
    "    def __init__(self, nm): self.nm = nm\n",
    "    def __call__(self, f):\n",
    "        def _f(o, *args, **kwargs):\n",
    "            try:\n",
    "                o.callback(f'before_{self.nm}')\n",
    "                f(o, *args, **kwargs)\n",
    "                o.callback(f'after_{self.nm}')\n",
    "            except globals()[f'Cancel{self.nm.title()}Exception']: pass\n",
    "        return _f"
   ]
  },
  {
   "cell_type": "code",
   "execution_count": 27,
   "id": "fbc98234",
   "metadata": {},
   "outputs": [],
   "source": [
    "#|export\n",
    "class Learner():\n",
    "    def __init__(self, model, dls, loss_func, lr, cbs, opt_func=optim.SGD):\n",
    "        fc.store_attr()\n",
    "        for cb in cbs: cb.learn = self\n",
    "\n",
    "    @with_cbs('batch')\n",
    "    def one_batch(self):\n",
    "        self.predict()\n",
    "        self.get_loss()\n",
    "        if self.model.training:\n",
    "            self.backward()\n",
    "            self.step()\n",
    "\n",
    "    def one_epoch(self, train):\n",
    "        self.model.train(train)\n",
    "        self.dl = self.dls.train if train else self.dls.valid\n",
    "        self._one_epoch()\n",
    "\n",
    "    @with_cbs('epoch')\n",
    "    def _one_epoch(self):\n",
    "        for self.iter,self.batch in enumerate(self.dl): self.one_batch()\n",
    "    \n",
    "    def fit(self, n_epochs):\n",
    "        self.n_epochs = n_epochs\n",
    "        self.epochs = range(n_epochs)\n",
    "        self.opt = self.opt_func(self.model.parameters(), self.lr)\n",
    "        self._fit()\n",
    "\n",
    "    @with_cbs('fit')\n",
    "    def _fit(self):\n",
    "        for self.epoch in self.epochs:\n",
    "            self.one_epoch(True)\n",
    "            self.one_epoch(False)\n",
    "        \n",
    "    def __getattr__(self, name):\n",
    "        if name[0]=='_': raise AttributeError(name)\n",
    "        return partial(self.callback, name)\n",
    "\n",
    "    def callback(self, method_nm):\n",
    "        for cb in sorted(self.cbs, key=attrgetter('order')): getattr(cb, method_nm,identity)()"
   ]
  },
  {
   "cell_type": "code",
   "execution_count": 28,
   "id": "1b4d2c7d",
   "metadata": {},
   "outputs": [],
   "source": [
    "#|export\n",
    "class Callback(): order = 0"
   ]
  },
  {
   "cell_type": "code",
   "execution_count": 29,
   "id": "bee3643f",
   "metadata": {},
   "outputs": [],
   "source": [
    "#|export\n",
    "class TrainCB(Callback):\n",
    "    def predict(self): self.learn.preds = self.learn.model(self.learn.batch[0])\n",
    "    def get_loss(self): self.learn.loss = self.learn.loss_func(self.learn.preds, self.learn.batch[1])\n",
    "    def backward(self): self.learn.loss.backward()\n",
    "    def step(self): self.learn.opt.step()            "
   ]
  },
  {
   "cell_type": "code",
   "execution_count": 30,
   "id": "fdb4e381",
   "metadata": {},
   "outputs": [],
   "source": [
    "#|export\n",
    "class CudaCB(Callback):\n",
    "    def before_fit(self): self.learn.model.cuda()\n",
    "    def before_batch(self): self.learn.batch = to_cuda(self.learn.batch)"
   ]
  },
  {
   "cell_type": "code",
   "execution_count": 31,
   "id": "cf97aa2a",
   "metadata": {},
   "outputs": [],
   "source": [
    "#|export\n",
    "class ProgressCB(Callback):\n",
    "    def before_epoch(self): self.learn.dl = progress_bar(self.learn.dl)"
   ]
  },
  {
   "cell_type": "code",
   "execution_count": 32,
   "id": "cee30bc2",
   "metadata": {},
   "outputs": [],
   "source": [
    "#|export\n",
    "class MetricsCB(Callback):\n",
    "    def __init__(self, metric): self.metric,self.loss_m = metric,Loss()\n",
    "    def before_epoch(self):\n",
    "        self.metric.reset()\n",
    "        self.loss_m.reset()\n",
    "    def after_epoch(self): print(self.learn.epoch, self.learn.model.training, self.metric(), self.loss_m())\n",
    "    def after_batch(self):\n",
    "        self.metric.add_batch(self.learn.preds.argmax(dim=1), self.learn.batch[1])\n",
    "        self.loss_m.add(self.learn.loss, len(self.learn.batch[0]))"
   ]
  },
  {
   "cell_type": "code",
   "execution_count": 33,
   "id": "b82dcb40",
   "metadata": {},
   "outputs": [],
   "source": [
    "m,nh = 28*28,50\n",
    "model = nn.Sequential(nn.Linear(m,nh), nn.ReLU(), nn.Linear(nh,10))"
   ]
  },
  {
   "cell_type": "code",
   "execution_count": 34,
   "id": "3b77daf3",
   "metadata": {},
   "outputs": [
    {
     "data": {
      "text/html": [
       "\n",
       "<style>\n",
       "    /* Turns off some styling */\n",
       "    progress {\n",
       "        /* gets rid of default border in Firefox and Opera. */\n",
       "        border: none;\n",
       "        /* Needs to be in here for Safari polyfill so background images work as expected. */\n",
       "        background-size: auto;\n",
       "    }\n",
       "    .progress-bar-interrupted, .progress-bar-interrupted::-webkit-progress-bar {\n",
       "        background: #F44336;\n",
       "    }\n",
       "</style>\n"
      ],
      "text/plain": [
       "<IPython.core.display.HTML object>"
      ]
     },
     "metadata": {},
     "output_type": "display_data"
    },
    {
     "data": {
      "text/html": [
       "\n",
       "    <div>\n",
       "      <progress value='235' class='' max='235' style='width:300px; height:20px; vertical-align: middle;'></progress>\n",
       "      100.00% [235/235 00:09<00:00]\n",
       "    </div>\n",
       "    "
      ],
      "text/plain": [
       "<IPython.core.display.HTML object>"
      ]
     },
     "metadata": {},
     "output_type": "display_data"
    },
    {
     "name": "stdout",
     "output_type": "stream",
     "text": [
      "0 True tensor(0.55) tensor(1.33)\n"
     ]
    },
    {
     "data": {
      "text/html": [
       "\n",
       "<style>\n",
       "    /* Turns off some styling */\n",
       "    progress {\n",
       "        /* gets rid of default border in Firefox and Opera. */\n",
       "        border: none;\n",
       "        /* Needs to be in here for Safari polyfill so background images work as expected. */\n",
       "        background-size: auto;\n",
       "    }\n",
       "    .progress-bar-interrupted, .progress-bar-interrupted::-webkit-progress-bar {\n",
       "        background: #F44336;\n",
       "    }\n",
       "</style>\n"
      ],
      "text/plain": [
       "<IPython.core.display.HTML object>"
      ]
     },
     "metadata": {},
     "output_type": "display_data"
    },
    {
     "data": {
      "text/html": [
       "\n",
       "    <div>\n",
       "      <progress value='40' class='' max='40' style='width:300px; height:20px; vertical-align: middle;'></progress>\n",
       "      100.00% [40/40 00:01<00:00]\n",
       "    </div>\n",
       "    "
      ],
      "text/plain": [
       "<IPython.core.display.HTML object>"
      ]
     },
     "metadata": {},
     "output_type": "display_data"
    },
    {
     "name": "stdout",
     "output_type": "stream",
     "text": [
      "0 False tensor(0.70) tensor(1.11)\n"
     ]
    }
   ],
   "source": [
    "cbs = [TrainCB(), CudaCB(), MetricsCB(Accuracy()), ProgressCB()]\n",
    "learn = Learner(model, dls, F.cross_entropy, lr=0.001, cbs=cbs)\n",
    "learn.fit(1)"
   ]
  },
  {
   "cell_type": "markdown",
   "id": "e36aef26",
   "metadata": {},
   "source": [
    "### TrainingLearner subclass"
   ]
  },
  {
   "cell_type": "code",
   "execution_count": 35,
   "id": "51fe2944",
   "metadata": {},
   "outputs": [],
   "source": [
    "#|export\n",
    "class TrainingLearner(Learner):\n",
    "    def predict(self): self.preds = self.model(self.batch[0])\n",
    "    def get_loss(self): self.loss = self.loss_func(self.preds, self.batch[1])\n",
    "    def backward(self): self.loss.backward()\n",
    "    def step(self): self.opt.step()            "
   ]
  },
  {
   "cell_type": "code",
   "execution_count": 36,
   "id": "452eff1d",
   "metadata": {},
   "outputs": [
    {
     "data": {
      "text/html": [
       "\n",
       "<style>\n",
       "    /* Turns off some styling */\n",
       "    progress {\n",
       "        /* gets rid of default border in Firefox and Opera. */\n",
       "        border: none;\n",
       "        /* Needs to be in here for Safari polyfill so background images work as expected. */\n",
       "        background-size: auto;\n",
       "    }\n",
       "    .progress-bar-interrupted, .progress-bar-interrupted::-webkit-progress-bar {\n",
       "        background: #F44336;\n",
       "    }\n",
       "</style>\n"
      ],
      "text/plain": [
       "<IPython.core.display.HTML object>"
      ]
     },
     "metadata": {},
     "output_type": "display_data"
    },
    {
     "data": {
      "text/html": [
       "\n",
       "    <div>\n",
       "      <progress value='235' class='' max='235' style='width:300px; height:20px; vertical-align: middle;'></progress>\n",
       "      100.00% [235/235 00:09<00:00]\n",
       "    </div>\n",
       "    "
      ],
      "text/plain": [
       "<IPython.core.display.HTML object>"
      ]
     },
     "metadata": {},
     "output_type": "display_data"
    },
    {
     "name": "stdout",
     "output_type": "stream",
     "text": [
      "0 True tensor(0.75) tensor(1.23)\n"
     ]
    },
    {
     "data": {
      "text/html": [
       "\n",
       "<style>\n",
       "    /* Turns off some styling */\n",
       "    progress {\n",
       "        /* gets rid of default border in Firefox and Opera. */\n",
       "        border: none;\n",
       "        /* Needs to be in here for Safari polyfill so background images work as expected. */\n",
       "        background-size: auto;\n",
       "    }\n",
       "    .progress-bar-interrupted, .progress-bar-interrupted::-webkit-progress-bar {\n",
       "        background: #F44336;\n",
       "    }\n",
       "</style>\n"
      ],
      "text/plain": [
       "<IPython.core.display.HTML object>"
      ]
     },
     "metadata": {},
     "output_type": "display_data"
    },
    {
     "data": {
      "text/html": [
       "\n",
       "    <div>\n",
       "      <progress value='40' class='' max='40' style='width:300px; height:20px; vertical-align: middle;'></progress>\n",
       "      100.00% [40/40 00:01<00:00]\n",
       "    </div>\n",
       "    "
      ],
      "text/plain": [
       "<IPython.core.display.HTML object>"
      ]
     },
     "metadata": {},
     "output_type": "display_data"
    },
    {
     "name": "stdout",
     "output_type": "stream",
     "text": [
      "0 False tensor(0.73) tensor(1.69)\n"
     ]
    }
   ],
   "source": [
    "# NB: No TrainCB\n",
    "cbs = [CudaCB(), MetricsCB(Accuracy()), ProgressCB()]\n",
    "learn = TrainingLearner(model, dls, F.cross_entropy, lr=0.001, cbs=cbs)\n",
    "learn.fit(1)"
   ]
  },
  {
   "cell_type": "markdown",
   "id": "7bfb9bd2",
   "metadata": {},
   "source": [
    "## Export -"
   ]
  },
  {
   "cell_type": "code",
   "execution_count": 30,
   "id": "465118f0",
   "metadata": {},
   "outputs": [],
   "source": [
    "import nbdev; nbdev.nbdev_export()"
   ]
  },
  {
   "cell_type": "code",
   "execution_count": null,
   "id": "315f59eb",
   "metadata": {},
   "outputs": [],
   "source": []
  }
 ],
 "metadata": {
  "kernelspec": {
   "display_name": "Python 3 (ipykernel)",
   "language": "python",
   "name": "python3"
  },
  "language_info": {
   "codemirror_mode": {
    "name": "ipython",
    "version": 3
   },
   "file_extension": ".py",
   "mimetype": "text/x-python",
   "name": "python",
   "nbconvert_exporter": "python",
   "pygments_lexer": "ipython3",
   "version": "3.9.10"
  },
  "toc": {
   "base_numbering": 1,
   "nav_menu": {},
   "number_sections": false,
   "sideBar": true,
   "skip_h1_title": false,
   "title_cell": "Table of Contents",
   "title_sidebar": "Contents",
   "toc_cell": false,
   "toc_position": {},
   "toc_section_display": true,
   "toc_window_display": false
  }
 },
 "nbformat": 4,
 "nbformat_minor": 5
}
