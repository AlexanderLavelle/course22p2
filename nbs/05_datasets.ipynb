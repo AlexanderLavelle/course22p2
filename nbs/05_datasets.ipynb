{
 "cells": [
  {
   "cell_type": "code",
   "execution_count": 2,
   "id": "da7e553f",
   "metadata": {},
   "outputs": [],
   "source": [
    "#| default_exp datasets"
   ]
  },
  {
   "cell_type": "code",
   "execution_count": 10,
   "id": "91296cb6-8cf6-4cd4-bf65-cdf5fda77a0d",
   "metadata": {},
   "outputs": [],
   "source": [
    "import sys\n",
    "sys.path.append('..')"
   ]
  },
  {
   "cell_type": "code",
   "execution_count": 11,
   "id": "3a5b2d33",
   "metadata": {},
   "outputs": [],
   "source": [
    "#|export\n",
    "from __future__ import annotations\n",
    "import math,numpy as np,matplotlib.pyplot as plt\n",
    "from operator import itemgetter\n",
    "from itertools import zip_longest\n",
    "import fastcore.all as fc\n",
    "\n",
    "# from torch.utils.data import default_collate\n",
    "import tensorflow as tf\n",
    "\n",
    "from miniai.training import *"
   ]
  },
  {
   "cell_type": "code",
   "execution_count": 18,
   "id": "579a712f",
   "metadata": {},
   "outputs": [],
   "source": [
    "# import logging,pickle,gzip,os,time,shutil,torch,matplotlib as mpl\n",
    "import logging,pickle,gzip,os,time,shutil,matplotlib as mpl\n",
    "\n",
    "from pathlib import Path\n",
    "\n",
    "# from torch import tensor,nn,optim\n",
    "# from torch.utils.data import DataLoader\n",
    "# import torch.nn.functional as F\n",
    "from datasets import load_dataset,load_dataset_builder\n",
    "\n",
    "# import torchvision.transforms.functional as TF\n",
    "from fastcore.test import test_close"
   ]
  },
  {
   "cell_type": "code",
   "execution_count": 19,
   "id": "45dc4dc7",
   "metadata": {},
   "outputs": [],
   "source": [
    "# torch.set_printoptions(precision=2, linewidth=140, sci_mode=False)\n",
    "# torch.manual_seed(1)\n",
    "tf.random.set_seed(1)\n",
    "mpl.rcParams['image.cmap'] = 'gray'"
   ]
  },
  {
   "cell_type": "code",
   "execution_count": 20,
   "id": "84a947f2",
   "metadata": {},
   "outputs": [],
   "source": [
    "logging.disable(logging.WARNING)"
   ]
  },
  {
   "cell_type": "markdown",
   "id": "d47ef9d3",
   "metadata": {},
   "source": [
    "## Hugging Face Datasets"
   ]
  },
  {
   "cell_type": "code",
   "execution_count": 21,
   "id": "95ce04f5",
   "metadata": {},
   "outputs": [
    {
     "data": {
      "application/vnd.jupyter.widget-view+json": {
       "model_id": "155b52b16d224af69ba0af1e227f0091",
       "version_major": 2,
       "version_minor": 0
      },
      "text/plain": [
       "Downloading builder script:   0%|          | 0.00/4.83k [00:00<?, ?B/s]"
      ]
     },
     "metadata": {},
     "output_type": "display_data"
    },
    {
     "data": {
      "application/vnd.jupyter.widget-view+json": {
       "model_id": "e3a77aec1db449c6801992abe62e70d2",
       "version_major": 2,
       "version_minor": 0
      },
      "text/plain": [
       "Downloading metadata:   0%|          | 0.00/3.13k [00:00<?, ?B/s]"
      ]
     },
     "metadata": {},
     "output_type": "display_data"
    },
    {
     "data": {
      "application/vnd.jupyter.widget-view+json": {
       "model_id": "7bb06ac9b1234f60ba5edfcd73896de3",
       "version_major": 2,
       "version_minor": 0
      },
      "text/plain": [
       "Downloading readme:   0%|          | 0.00/8.85k [00:00<?, ?B/s]"
      ]
     },
     "metadata": {},
     "output_type": "display_data"
    },
    {
     "name": "stdout",
     "output_type": "stream",
     "text": [
      "Fashion-MNIST is a dataset of Zalando's article images—consisting of a training set of\n",
      "60,000 examples and a test set of 10,000 examples. Each example is a 28x28 grayscale image,\n",
      "associated with a label from 10 classes. We intend Fashion-MNIST to serve as a direct drop-in\n",
      "replacement for the original MNIST dataset for benchmarking machine learning algorithms.\n",
      "It shares the same image size and structure of training and testing splits.\n",
      "\n"
     ]
    }
   ],
   "source": [
    "name = \"fashion_mnist\"\n",
    "ds_builder = load_dataset_builder(name)\n",
    "print(ds_builder.info.description)"
   ]
  },
  {
   "cell_type": "code",
   "execution_count": 22,
   "id": "7b8e6589",
   "metadata": {},
   "outputs": [
    {
     "data": {
      "text/plain": [
       "{'image': Image(decode=True, id=None),\n",
       " 'label': ClassLabel(names=['T - shirt / top', 'Trouser', 'Pullover', 'Dress', 'Coat', 'Sandal', 'Shirt', 'Sneaker', 'Bag', 'Ankle boot'], id=None)}"
      ]
     },
     "execution_count": 22,
     "metadata": {},
     "output_type": "execute_result"
    }
   ],
   "source": [
    "ds_builder.info.features"
   ]
  },
  {
   "cell_type": "code",
   "execution_count": 23,
   "id": "1671912b",
   "metadata": {},
   "outputs": [
    {
     "data": {
      "text/plain": [
       "{'train': SplitInfo(name='train', num_bytes=31296655, num_examples=60000, shard_lengths=None, dataset_name=None),\n",
       " 'test': SplitInfo(name='test', num_bytes=5233818, num_examples=10000, shard_lengths=None, dataset_name=None)}"
      ]
     },
     "execution_count": 23,
     "metadata": {},
     "output_type": "execute_result"
    }
   ],
   "source": [
    "ds_builder.info.splits"
   ]
  },
  {
   "cell_type": "code",
   "execution_count": 106,
   "id": "eacdc83c",
   "metadata": {},
   "outputs": [
    {
     "data": {
      "text/plain": [
       "DatasetDict({\n",
       "    train: Dataset({\n",
       "        features: ['image', 'label'],\n",
       "        num_rows: 60000\n",
       "    })\n",
       "    test: Dataset({\n",
       "        features: ['image', 'label'],\n",
       "        num_rows: 10000\n",
       "    })\n",
       "})"
      ]
     },
     "execution_count": 106,
     "metadata": {},
     "output_type": "execute_result"
    }
   ],
   "source": [
    "# dsd = load_dataset(name)\n",
    "dsd = load_dataset(name).with_format('tf') \n",
    "dsd"
   ]
  },
  {
   "cell_type": "code",
   "execution_count": 168,
   "id": "17b56496-04d6-4e16-8742-d0c5c3766ce8",
   "metadata": {},
   "outputs": [],
   "source": [
    "dsd = load_dataset(name, streaming=True)"
   ]
  },
  {
   "cell_type": "code",
   "execution_count": 174,
   "id": "6ef15b80",
   "metadata": {},
   "outputs": [
    {
     "data": {
      "text/plain": [
       "{'image': <PIL.PngImagePlugin.PngImageFile image mode=L size=28x28>,\n",
       " 'label': 9}"
      ]
     },
     "execution_count": 174,
     "metadata": {},
     "output_type": "execute_result"
    }
   ],
   "source": [
    "train,test = dsd['train'],dsd['test']\n",
    "# train[0]\n",
    "next(iter(train))"
   ]
  },
  {
   "cell_type": "code",
   "execution_count": 175,
   "id": "bebfe2a9",
   "metadata": {},
   "outputs": [],
   "source": [
    "x,y = ds_builder.info.features"
   ]
  },
  {
   "cell_type": "code",
   "execution_count": 176,
   "id": "2ef65b83",
   "metadata": {},
   "outputs": [
    {
     "data": {
      "text/plain": [
       "('image', 'label')"
      ]
     },
     "execution_count": 176,
     "metadata": {},
     "output_type": "execute_result"
    }
   ],
   "source": [
    "x,y"
   ]
  },
  {
   "cell_type": "code",
   "execution_count": 179,
   "id": "4c7b6fcc",
   "metadata": {},
   "outputs": [
    {
     "data": {
      "image/jpeg": "[encoded data removed]",
      "image/png": "[encoded data removed]",
      "text/plain": [
       "<PIL.PngImagePlugin.PngImageFile image mode=L size=28x28>"
      ]
     },
     "execution_count": 179,
     "metadata": {},
     "output_type": "execute_result"
    }
   ],
   "source": [
    "x,y = 'image','label'\n",
    "# img = train[0][x]\n",
    "img = next(iter(train))[x]\n",
    "img"
   ]
  },
  {
   "cell_type": "code",
   "execution_count": 182,
   "id": "3db1778b",
   "metadata": {},
   "outputs": [
    {
     "data": {
      "text/plain": [
       "[9, 0, 0, 3, 0]"
      ]
     },
     "execution_count": 182,
     "metadata": {},
     "output_type": "execute_result"
    }
   ],
   "source": [
    "# xb = train[:5][x]\n",
    "i_train = iter(train)\n",
    "xb = [next(i_train)[x] for _ in range(5)]\n",
    "# yb = train[:5][y]\n",
    "i_train = iter(train)\n",
    "yb = [next(i_train)[y] for _ in range(5)]\n",
    "yb"
   ]
  },
  {
   "cell_type": "code",
   "execution_count": 183,
   "id": "e54b5bcc",
   "metadata": {},
   "outputs": [
    {
     "data": {
      "text/plain": [
       "ClassLabel(names=['T - shirt / top', 'Trouser', 'Pullover', 'Dress', 'Coat', 'Sandal', 'Shirt', 'Sneaker', 'Bag', 'Ankle boot'], id=None)"
      ]
     },
     "execution_count": 183,
     "metadata": {},
     "output_type": "execute_result"
    }
   ],
   "source": [
    "featy = train.features[y]\n",
    "featy"
   ]
  },
  {
   "cell_type": "code",
   "execution_count": 184,
   "id": "fcef590a",
   "metadata": {},
   "outputs": [
    {
     "data": {
      "text/plain": [
       "['Ankle boot',\n",
       " 'T - shirt / top',\n",
       " 'T - shirt / top',\n",
       " 'Dress',\n",
       " 'T - shirt / top']"
      ]
     },
     "execution_count": 184,
     "metadata": {},
     "output_type": "execute_result"
    }
   ],
   "source": [
    "featy.int2str(yb)"
   ]
  },
  {
   "cell_type": "code",
   "execution_count": 186,
   "id": "953cac0f",
   "metadata": {},
   "outputs": [
    {
     "data": {
      "text/plain": [
       "[9, 0, 0, 3, 0]"
      ]
     },
     "execution_count": 186,
     "metadata": {},
     "output_type": "execute_result"
    }
   ],
   "source": [
    "# train['label'][:5]\n",
    "i_train = iter(train)\n",
    "[next(i_train)['label'] for _ in range(5)] "
   ]
  },
  {
   "cell_type": "code",
   "execution_count": 187,
   "id": "6b8790b8",
   "metadata": {},
   "outputs": [],
   "source": [
    "def collate_fn(b):\n",
    "    return {x:torch.stack([TF.to_tensor(o[x]) for o in b]),\n",
    "            y:tensor([o[y] for o in b])}"
   ]
  },
  {
   "cell_type": "code",
   "execution_count": 188,
   "id": "2eac3eef-9b3f-49ed-b008-db3ebc0ae493",
   "metadata": {},
   "outputs": [
    {
     "data": {
      "text/plain": [
       "dict_keys(['_info', '_split', '_ex_iterable', '_formatting', '_shuffling', '_distributed', '_epoch', '_token_per_repo_id'])"
      ]
     },
     "execution_count": 188,
     "metadata": {},
     "output_type": "execute_result"
    }
   ],
   "source": [
    "train.__dict__.keys()"
   ]
  },
  {
   "cell_type": "code",
   "execution_count": 189,
   "id": "69900fd5-7d3a-4669-a9e3-2bc4086200a3",
   "metadata": {},
   "outputs": [
    {
     "data": {
      "image/jpeg": "[encoded data removed]",
      "image/png": "[encoded data removed]",
      "text/plain": [
       "<PIL.PngImagePlugin.PngImageFile image mode=L size=28x28>"
      ]
     },
     "execution_count": 189,
     "metadata": {},
     "output_type": "execute_result"
    }
   ],
   "source": [
    "# train[0]['image']\n",
    "next(iter(train))['image']"
   ]
  },
  {
   "cell_type": "code",
   "execution_count": 195,
   "id": "c5c1caf0-bb2b-4ae8-97b4-33be503fa110",
   "metadata": {},
   "outputs": [],
   "source": [
    "class GenCallable:\n",
    "    def __init__(self, ds):\n",
    "        self.ds = ds\n",
    "        \n",
    "    def __call__(self):\n",
    "        for i in self.ds: yield i"
   ]
  },
  {
   "cell_type": "code",
   "execution_count": 201,
   "id": "26602be9-e765-40f4-b8e5-5bfd63c4e9a3",
   "metadata": {},
   "outputs": [
    {
     "data": {
      "text/plain": [
       "<tf.Tensor: shape=(), dtype=int64, numpy=9>"
      ]
     },
     "execution_count": 201,
     "metadata": {},
     "output_type": "execute_result"
    }
   ],
   "source": [
    "next(iter(dl))['label']"
   ]
  },
  {
   "cell_type": "code",
   "execution_count": 266,
   "id": "36b7be22",
   "metadata": {},
   "outputs": [
    {
     "data": {
      "text/plain": [
       "(TensorShape([16, 28, 28]),\n",
       " <tf.Tensor: shape=(16,), dtype=int64, numpy=array([9, 0, 0, 3, 0, 2, 7, 2, 5, 5, 0, 9, 5, 5, 7, 9])>)"
      ]
     },
     "execution_count": 266,
     "metadata": {},
     "output_type": "execute_result"
    }
   ],
   "source": [
    "# dl = DataLoader(train, collate_fn=collate_fn, batch_size=16)\n",
    "\n",
    "output_signature = {\n",
    "    'image':tf.TensorSpec(shape=[None, None], dtype=tf.uint8),\n",
    "    'label':tf.TensorSpec(shape=[], dtype=tf.int64)\n",
    "}\n",
    "\n",
    "dl = tf.data.Dataset.from_generator(GenCallable(train), output_signature=output_signature).batch(16)\n",
    "b = next(iter(dl))\n",
    "b[x].shape,b[y]"
   ]
  },
  {
   "cell_type": "code",
   "execution_count": 224,
   "id": "45a6c6b4",
   "metadata": {},
   "outputs": [],
   "source": [
    "# already a tensor\n",
    "def transforms(b):\n",
    "    # b[x] = [TF.to_tensor(o) for o in b[x]]\n",
    "    return b"
   ]
  },
  {
   "cell_type": "code",
   "execution_count": 225,
   "id": "7ce1985b",
   "metadata": {},
   "outputs": [],
   "source": [
    "# tds = train.with_transform(transforms)\n",
    "# dl = DataLoader(tds, batch_size=16)\n",
    "# b = next(iter(dl))\n",
    "# b[x].shape,b[y]"
   ]
  },
  {
   "cell_type": "code",
   "execution_count": 226,
   "id": "1ad7ecde",
   "metadata": {},
   "outputs": [],
   "source": [
    "# def _transformi(b): b[x] = [torch.flatten(TF.to_tensor(o)) for o in b[x]]\n",
    "def _transformi(b): b[x] = [tf.reshape(o, shape=(28*28)) for o in b[x]]\n",
    "    # return b"
   ]
  },
  {
   "cell_type": "code",
   "execution_count": 227,
   "id": "54cfb4a8",
   "metadata": {},
   "outputs": [],
   "source": [
    "#|export\n",
    "def inplace(f):\n",
    "    def _f(b):\n",
    "        f(b)\n",
    "        return b\n",
    "    return _f"
   ]
  },
  {
   "cell_type": "code",
   "execution_count": 230,
   "id": "8ffe8f17",
   "metadata": {},
   "outputs": [],
   "source": [
    "# can't do inplace in tf data vanilla\n",
    "\n",
    "# transformi = inplace(_transformi)"
   ]
  },
  {
   "cell_type": "code",
   "execution_count": 231,
   "id": "f8b1248f",
   "metadata": {},
   "outputs": [],
   "source": [
    "# r = train.with_transform(transformi)[0]\n",
    "# r[x].shape,r[y]"
   ]
  },
  {
   "cell_type": "code",
   "execution_count": 232,
   "id": "d6e8c480",
   "metadata": {},
   "outputs": [],
   "source": [
    "# @inplace\n",
    "# def transformi(b): b[x] = [torch.flatten(TF.to_tensor(o)) for o in b[x]]\n",
    "\n",
    "@inplace\n",
    "def transformi(b): b[x] = [tf.reshape(o, shape=(28*28)) for o in b[x]]"
   ]
  },
  {
   "cell_type": "code",
   "execution_count": 234,
   "id": "07367168",
   "metadata": {},
   "outputs": [],
   "source": [
    "# tdsf = train.with_transform(transformi)\n",
    "# r = tdsf[0]\n",
    "# r[x].shape,r[y]"
   ]
  },
  {
   "cell_type": "code",
   "execution_count": 235,
   "id": "42cd1354",
   "metadata": {},
   "outputs": [
    {
     "data": {
      "text/plain": [
       "(1, 3)"
      ]
     },
     "execution_count": 235,
     "metadata": {},
     "output_type": "execute_result"
    }
   ],
   "source": [
    "d = dict(a=1,b=2,c=3)\n",
    "ig = itemgetter('a','c')\n",
    "ig(d)"
   ]
  },
  {
   "cell_type": "code",
   "execution_count": 236,
   "id": "3c2e0bd6",
   "metadata": {},
   "outputs": [],
   "source": [
    "class D:\n",
    "    def __getitem__(self, k): return 1 if k=='a' else 2 if k=='b' else 3"
   ]
  },
  {
   "cell_type": "code",
   "execution_count": 237,
   "id": "105f8d6f",
   "metadata": {},
   "outputs": [
    {
     "data": {
      "text/plain": [
       "(1, 3)"
      ]
     },
     "execution_count": 237,
     "metadata": {},
     "output_type": "execute_result"
    }
   ],
   "source": [
    "d = D()\n",
    "ig(d)"
   ]
  },
  {
   "cell_type": "code",
   "execution_count": 238,
   "id": "9dd178af",
   "metadata": {},
   "outputs": [
    {
     "data": {
      "text/plain": [
       "['image', 'label']"
      ]
     },
     "execution_count": 238,
     "metadata": {},
     "output_type": "execute_result"
    }
   ],
   "source": [
    "list(tdsf.features)"
   ]
  },
  {
   "cell_type": "code",
   "execution_count": 239,
   "id": "838cbf23",
   "metadata": {},
   "outputs": [
    {
     "data": {
      "text/plain": [
       "{'a': <tf.Tensor: shape=(2, 1), dtype=int32, numpy=\n",
       " array([[1],\n",
       "        [3]], dtype=int32)>,\n",
       " 'b': <tf.Tensor: shape=(2, 1), dtype=int32, numpy=\n",
       " array([[2],\n",
       "        [4]], dtype=int32)>}"
      ]
     },
     "execution_count": 239,
     "metadata": {},
     "output_type": "execute_result"
    }
   ],
   "source": [
    "batch = dict(a=[1],b=[2]), dict(a=[3],b=[4])\n",
    "# default_collate(batch)\n",
    "\n",
    "from cytoolz import merge_with\n",
    "merge_with(tf.stack, batch)"
   ]
  },
  {
   "cell_type": "code",
   "execution_count": 240,
   "id": "150eb14f",
   "metadata": {},
   "outputs": [],
   "source": [
    "#|export\n",
    "def collate_dict(ds):\n",
    "    get = itemgetter(*ds.features)\n",
    "    def _f(b): return get(merge_with(tf.stack, b))\n",
    "    return _f"
   ]
  },
  {
   "cell_type": "code",
   "execution_count": 241,
   "id": "7b748860-adf8-4841-94b2-d815cb54e90b",
   "metadata": {},
   "outputs": [
    {
     "data": {
      "text/plain": [
       "Dataset({\n",
       "    features: ['image', 'label'],\n",
       "    num_rows: 60000\n",
       "})"
      ]
     },
     "execution_count": 241,
     "metadata": {},
     "output_type": "execute_result"
    }
   ],
   "source": [
    "tdsf"
   ]
  },
  {
   "cell_type": "code",
   "execution_count": 251,
   "id": "6a6ef525-6c2e-47d3-bee2-b82bcbf5dec9",
   "metadata": {},
   "outputs": [],
   "source": [
    "def reshape_elements(d):\n",
    "    d['image'] = tf.reshape(d['image'], shape=(-1,28*28))\n",
    "    return d"
   ]
  },
  {
   "cell_type": "code",
   "execution_count": 256,
   "id": "383173e9",
   "metadata": {},
   "outputs": [
    {
     "data": {
      "text/plain": [
       "(TensorShape([4, 784]),\n",
       " <tf.Tensor: shape=(4,), dtype=int64, numpy=array([9, 0, 0, 3])>)"
      ]
     },
     "execution_count": 256,
     "metadata": {},
     "output_type": "execute_result"
    }
   ],
   "source": [
    "# dlf = DataLoader(tdsf, batch_size=4, collate_fn=collate_dict(tdsf))\n",
    "dlf = tf.data.Dataset.from_generator(GenCallable(train), output_signature=output_signature)\n",
    "dlf = dlf.batch(4).map(lambda d: {\n",
    "    'image':tf.reshape(d['image'], shape=(-1, 28*28)),\n",
    "    'label':d['label']\n",
    "})\n",
    "\n",
    "# xb,yb = next(iter(dlf))\n",
    "first = next(iter(dlf))\n",
    "xb, yb = first['image'], first['label']\n",
    "xb.shape,yb"
   ]
  },
  {
   "cell_type": "markdown",
   "id": "8f0277c6",
   "metadata": {},
   "source": [
    "## Plotting images"
   ]
  },
  {
   "cell_type": "code",
   "execution_count": 269,
   "id": "e9710424",
   "metadata": {},
   "outputs": [
    {
     "data": {
      "image/png": "[encoded data removed]",
      "text/plain": [
       "<Figure size 640x480 with 1 Axes>"
      ]
     },
     "metadata": {},
     "output_type": "display_data"
    }
   ],
   "source": [
    "b = next(iter(dl))\n",
    "xb = b['image']\n",
    "img = xb[0]\n",
    "plt.imshow(img.numpy());"
   ]
  },
  {
   "cell_type": "code",
   "execution_count": 271,
   "id": "ef84d1b0",
   "metadata": {},
   "outputs": [],
   "source": [
    "#|export\n",
    "@fc.delegates(plt.Axes.imshow)\n",
    "def show_image(im, ax=None, figsize=None, title=None, noframe=True, **kwargs):\n",
    "    # \"Show a PIL or PyTorch image on `ax`.\"\n",
    "    \"Show a PIL or PyTorch image on `ax`.\"\n",
    "    if fc.hasattrs(im, ('cpu','permute','detach')):\n",
    "        im = im.detach().cpu()\n",
    "        if len(im.shape)==3 and im.shape[0]<5: im=im.permute(1,2,0)\n",
    "    elif not isinstance(im,np.ndarray): im=np.array(im)\n",
    "    if im.shape[-1]==1: im=im[...,0]\n",
    "    if ax is None: _,ax = plt.subplots(figsize=figsize)\n",
    "    ax.imshow(im, **kwargs)\n",
    "    if title is not None: ax.set_title(title)\n",
    "    ax.set_xticks([]) \n",
    "    ax.set_yticks([]) \n",
    "    if noframe: ax.axis('off')\n",
    "    return ax"
   ]
  },
  {
   "cell_type": "code",
   "execution_count": 272,
   "id": "77221d36",
   "metadata": {},
   "outputs": [
    {
     "name": "stdout",
     "output_type": "stream",
     "text": [
      "Help on function show_image in module __main__:\n",
      "\n",
      "show_image(im, ax=None, figsize=None, title=None, noframe=True, *, cmap=None, norm=None, aspect=None, interpolation=None, alpha=None, vmin=None, vmax=None, origin=None, extent=None, interpolation_stage=None, filternorm=True, filterrad=4.0, resample=None, url=None, data=None)\n",
      "    Show a PIL or PyTorch image on `ax`.\n",
      "\n"
     ]
    }
   ],
   "source": [
    "help(show_image)"
   ]
  },
  {
   "cell_type": "code",
   "execution_count": 273,
   "id": "2209898e",
   "metadata": {},
   "outputs": [
    {
     "data": {
      "image/png": "[encoded data removed]",
      "text/plain": [
       "<Figure size 200x200 with 1 Axes>"
      ]
     },
     "metadata": {},
     "output_type": "display_data"
    }
   ],
   "source": [
    "show_image(img, figsize=(2,2));"
   ]
  },
  {
   "cell_type": "code",
   "execution_count": 274,
   "id": "27586e5e",
   "metadata": {},
   "outputs": [
    {
     "data": {
      "image/png": "[encoded data removed]",
      "text/plain": [
       "<Figure size 640x480 with 2 Axes>"
      ]
     },
     "metadata": {},
     "output_type": "display_data"
    }
   ],
   "source": [
    "fig,axs = plt.subplots(1,2)\n",
    "show_image(img, axs[0])\n",
    "show_image(xb[1], axs[1]);"
   ]
  },
  {
   "cell_type": "code",
   "execution_count": 275,
   "id": "366112a5",
   "metadata": {},
   "outputs": [],
   "source": [
    "#|export\n",
    "@fc.delegates(plt.subplots, keep=True)\n",
    "def subplots(\n",
    "    nrows:int=1, # Number of rows in returned axes grid\n",
    "    ncols:int=1, # Number of columns in returned axes grid\n",
    "    figsize:tuple=None, # Width, height in inches of the returned figure\n",
    "    imsize:int=3, # Size (in inches) of images that will be displayed in the returned figure\n",
    "    suptitle:str=None, # Title to be set to returned figure\n",
    "    **kwargs\n",
    "): # fig and axs\n",
    "    \"A figure and set of subplots to display images of `imsize` inches\"\n",
    "    if figsize is None: figsize=(ncols*imsize, nrows*imsize)\n",
    "    fig,ax = plt.subplots(nrows, ncols, figsize=figsize, **kwargs)\n",
    "    if suptitle is not None: fig.suptitle(suptitle)\n",
    "    if nrows*ncols==1: ax = np.array([ax])\n",
    "    return fig,ax"
   ]
  },
  {
   "cell_type": "code",
   "execution_count": 276,
   "id": "8018591c",
   "metadata": {},
   "outputs": [],
   "source": [
    "from nbdev.showdoc import show_doc"
   ]
  },
  {
   "cell_type": "code",
   "execution_count": 277,
   "id": "f53aae66",
   "metadata": {},
   "outputs": [
    {
     "data": {
      "text/markdown": [
       "---\n",
       "\n",
       "### subplots\n",
       "\n",
       ">      subplots (nrows:int=1, ncols:int=1, figsize:tuple=None, imsize:int=3,\n",
       ">                suptitle:str=None,\n",
       ">                sharex:\"bool|Literal['none','all','row','col']\"=False,\n",
       ">                sharey:\"bool|Literal['none','all','row','col']\"=False,\n",
       ">                squeeze:bool=True, width_ratios:Sequence[float]|None=None,\n",
       ">                height_ratios:Sequence[float]|None=None,\n",
       ">                subplot_kw:dict[str,Any]|None=None,\n",
       ">                gridspec_kw:dict[str,Any]|None=None, **kwargs)\n",
       "\n",
       "A figure and set of subplots to display images of `imsize` inches\n",
       "\n",
       "|    | **Type** | **Default** | **Details** |\n",
       "| -- | -------- | ----------- | ----------- |\n",
       "| nrows | int | 1 | Number of rows in returned axes grid |\n",
       "| ncols | int | 1 | Number of columns in returned axes grid |\n",
       "| figsize | tuple | None | Width, height in inches of the returned figure |\n",
       "| imsize | int | 3 | Size (in inches) of images that will be displayed in the returned figure |\n",
       "| suptitle | str | None | Title to be set to returned figure |\n",
       "| sharex | bool \\| Literal['none', 'all', 'row', 'col'] | False |  |\n",
       "| sharey | bool \\| Literal['none', 'all', 'row', 'col'] | False |  |\n",
       "| squeeze | bool | True |  |\n",
       "| width_ratios | Sequence[float] \\| None | None |  |\n",
       "| height_ratios | Sequence[float] \\| None | None |  |\n",
       "| subplot_kw | dict[str, Any] \\| None | None |  |\n",
       "| gridspec_kw | dict[str, Any] \\| None | None |  |\n",
       "| kwargs |  |  |  |"
      ],
      "text/plain": [
       "---\n",
       "\n",
       "### subplots\n",
       "\n",
       ">      subplots (nrows:int=1, ncols:int=1, figsize:tuple=None, imsize:int=3,\n",
       ">                suptitle:str=None,\n",
       ">                sharex:\"bool|Literal['none','all','row','col']\"=False,\n",
       ">                sharey:\"bool|Literal['none','all','row','col']\"=False,\n",
       ">                squeeze:bool=True, width_ratios:Sequence[float]|None=None,\n",
       ">                height_ratios:Sequence[float]|None=None,\n",
       ">                subplot_kw:dict[str,Any]|None=None,\n",
       ">                gridspec_kw:dict[str,Any]|None=None, **kwargs)\n",
       "\n",
       "A figure and set of subplots to display images of `imsize` inches\n",
       "\n",
       "|    | **Type** | **Default** | **Details** |\n",
       "| -- | -------- | ----------- | ----------- |\n",
       "| nrows | int | 1 | Number of rows in returned axes grid |\n",
       "| ncols | int | 1 | Number of columns in returned axes grid |\n",
       "| figsize | tuple | None | Width, height in inches of the returned figure |\n",
       "| imsize | int | 3 | Size (in inches) of images that will be displayed in the returned figure |\n",
       "| suptitle | str | None | Title to be set to returned figure |\n",
       "| sharex | bool \\| Literal['none', 'all', 'row', 'col'] | False |  |\n",
       "| sharey | bool \\| Literal['none', 'all', 'row', 'col'] | False |  |\n",
       "| squeeze | bool | True |  |\n",
       "| width_ratios | Sequence[float] \\| None | None |  |\n",
       "| height_ratios | Sequence[float] \\| None | None |  |\n",
       "| subplot_kw | dict[str, Any] \\| None | None |  |\n",
       "| gridspec_kw | dict[str, Any] \\| None | None |  |\n",
       "| kwargs |  |  |  |"
      ]
     },
     "execution_count": 277,
     "metadata": {},
     "output_type": "execute_result"
    }
   ],
   "source": [
    "show_doc(subplots)"
   ]
  },
  {
   "cell_type": "code",
   "execution_count": 278,
   "id": "20546a79",
   "metadata": {},
   "outputs": [
    {
     "data": {
      "image/png": "[encoded data removed]",
      "text/plain": [
       "<Figure size 300x300 with 9 Axes>"
      ]
     },
     "metadata": {},
     "output_type": "display_data"
    }
   ],
   "source": [
    "fig,axs = subplots(3,3, imsize=1)\n",
    "imgs = xb[:8]\n",
    "for ax,img in zip(axs.flat,imgs): show_image(img, ax)"
   ]
  },
  {
   "cell_type": "code",
   "execution_count": 279,
   "id": "aeaf024b",
   "metadata": {},
   "outputs": [],
   "source": [
    "#|export\n",
    "@fc.delegates(subplots)\n",
    "def get_grid(\n",
    "    n:int, # Number of axes\n",
    "    nrows:int=None, # Number of rows, defaulting to `int(math.sqrt(n))`\n",
    "    ncols:int=None, # Number of columns, defaulting to `ceil(n/rows)`\n",
    "    title:str=None, # If passed, title set to the figure\n",
    "    weight:str='bold', # Title font weight\n",
    "    size:int=14, # Title font size\n",
    "    **kwargs,\n",
    "): # fig and axs\n",
    "    \"Return a grid of `n` axes, `rows` by `cols`\"\n",
    "    if nrows: ncols = ncols or int(np.floor(n/nrows))\n",
    "    elif ncols: nrows = nrows or int(np.ceil(n/ncols))\n",
    "    else:\n",
    "        nrows = int(math.sqrt(n))\n",
    "        ncols = int(np.floor(n/nrows))\n",
    "    fig,axs = subplots(nrows, ncols, **kwargs)\n",
    "    for i in range(n, nrows*ncols): axs.flat[i].set_axis_off()\n",
    "    if title is not None: fig.suptitle(title, weight=weight, size=size)\n",
    "    return fig,axs"
   ]
  },
  {
   "cell_type": "code",
   "execution_count": 280,
   "id": "c422a7de",
   "metadata": {},
   "outputs": [
    {
     "data": {
      "image/png": "[encoded data removed]",
      "text/plain": [
       "<Figure size 200x300 with 6 Axes>"
      ]
     },
     "metadata": {},
     "output_type": "display_data"
    }
   ],
   "source": [
    "fig,axs = get_grid(8, nrows=3, imsize=1)\n",
    "for ax,img in zip(axs.flat,imgs): show_image(img, ax)"
   ]
  },
  {
   "cell_type": "code",
   "execution_count": 281,
   "id": "02f44439",
   "metadata": {},
   "outputs": [],
   "source": [
    "#|export\n",
    "@fc.delegates(subplots)\n",
    "def show_images(ims:list, # Images to show\n",
    "                nrows:int|None=None, # Number of rows in grid\n",
    "                ncols:int|None=None, # Number of columns in grid (auto-calculated if None)\n",
    "                titles:list|None=None, # Optional list of titles for each image\n",
    "                **kwargs):\n",
    "    \"Show all images `ims` as subplots with `rows` using `titles`\"\n",
    "    axs = get_grid(len(ims), nrows, ncols, **kwargs)[1].flat\n",
    "    for im,t,ax in zip_longest(ims, titles or [], axs): show_image(im, ax=ax, title=t)"
   ]
  },
  {
   "cell_type": "code",
   "execution_count": 282,
   "id": "91e0e2ac",
   "metadata": {},
   "outputs": [],
   "source": [
    "yb = b['label']\n",
    "lbls = yb[:8]"
   ]
  },
  {
   "cell_type": "code",
   "execution_count": 283,
   "id": "a7aacc2a",
   "metadata": {},
   "outputs": [
    {
     "data": {
      "text/plain": [
       "'Boot Top Top Dress Top Pullover Sneaker Pullover'"
      ]
     },
     "execution_count": 283,
     "metadata": {},
     "output_type": "execute_result"
    }
   ],
   "source": [
    "names = \"Top Trouser Pullover Dress Coat Sandal Shirt Sneaker Bag Boot\".split()\n",
    "titles = itemgetter(*lbls)(names)\n",
    "' '.join(titles)"
   ]
  },
  {
   "cell_type": "code",
   "execution_count": 284,
   "id": "33b9ac1b",
   "metadata": {},
   "outputs": [
    {
     "data": {
      "image/png": "[encoded data removed]",
      "text/plain": [
       "<Figure size 680x340 with 8 Axes>"
      ]
     },
     "metadata": {},
     "output_type": "display_data"
    }
   ],
   "source": [
    "show_images(imgs, imsize=1.7, titles=titles)"
   ]
  },
  {
   "cell_type": "code",
   "execution_count": 285,
   "id": "56422103",
   "metadata": {},
   "outputs": [],
   "source": [
    "# #|export\n",
    "# class DataLoaders:\n",
    "#     def __init__(self, *dls): self.train,self.valid = dls[:2]\n",
    "\n",
    "#     @classmethod\n",
    "#     def from_dd(cls, dd, batch_size, as_tuple=True, **kwargs):\n",
    "#         f = collate_dict(dd['train'])\n",
    "#         return cls(*get_dls(*dd.values(), bs=batch_size, collate_fn=f, **kwargs))"
   ]
  },
  {
   "cell_type": "markdown",
   "id": "ff61b773",
   "metadata": {},
   "source": [
    "## Export -"
   ]
  },
  {
   "cell_type": "code",
   "execution_count": 286,
   "id": "686a88de",
   "metadata": {},
   "outputs": [],
   "source": [
    "import nbdev; nbdev.nbdev_export()"
   ]
  },
  {
   "cell_type": "code",
   "execution_count": null,
   "id": "59c28edf",
   "metadata": {},
   "outputs": [],
   "source": []
  }
 ],
 "metadata": {
  "kernelspec": {
   "display_name": "Python 3 (ipykernel)",
   "language": "python",
   "name": "python3"
  },
  "language_info": {
   "codemirror_mode": {
    "name": "ipython",
    "version": 3
   },
   "file_extension": ".py",
   "mimetype": "text/x-python",
   "name": "python",
   "nbconvert_exporter": "python",
   "pygments_lexer": "ipython3",
   "version": "3.10.13"
  }
 },
 "nbformat": 4,
 "nbformat_minor": 5
}
